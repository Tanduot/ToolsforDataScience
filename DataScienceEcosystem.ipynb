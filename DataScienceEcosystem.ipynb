{
 "cells": [
  {
   "cell_type": "markdown",
   "id": "bac517a2",
   "metadata": {},
   "source": [
    "# Data Science Tools and Ecosystem"
   ]
  },
  {
   "cell_type": "markdown",
   "id": "8be527f3",
   "metadata": {},
   "source": [
    "# In this notebook, Data Science Tools and Ecosystem are summarized."
   ]
  },
  {
   "cell_type": "markdown",
   "id": "bac3c6af",
   "metadata": {},
   "source": [
    "# **Objectives:**\n",
    "\n",
    "\n",
    "List popular languages for Data Science\n",
    "- The Languages for Data Science jobs\n",
    "- Some of the Libraries used by Data Scientist\n",
    "- Some of the Data Science Tools used by Data Scientist\n",
    "- Evaluating Arithmetic Expression using Python\n",
    "- Using Python to multiply and add integers\n",
    "- Converting 200 minutes to hours using python\n"
   ]
  },
  {
   "cell_type": "markdown",
   "id": "a21156e1",
   "metadata": {},
   "source": [
    "# Some of the popular languages that Data Scientists use are: \n",
    "\n",
    "1. - PYTHON\n",
    "2. - R\n",
    "3. - SQL"
   ]
  },
  {
   "cell_type": "markdown",
   "id": "2bc3cd9b",
   "metadata": {},
   "source": [
    "# Some of the popular languages that Data Scientists use are: \n",
    "\n",
    "1. PYTHON\n",
    "2. R\n",
    "3. SQL"
   ]
  },
  {
   "cell_type": "markdown",
   "id": "60b3a5a6",
   "metadata": {},
   "source": [
    "# Some of the commonly used libraries used by Data Scientists include:\n",
    "\n",
    "1. SCIPY\n",
    "2. PANDAS\n",
    "3. NUMPY\n",
    "4. MATPLOTLIB\n",
    "5. KERAS"
   ]
  },
  {
   "cell_type": "markdown",
   "id": "9d078710",
   "metadata": {},
   "source": [
    "| Data Science Tools |\n",
    "| ----------- |\n",
    "| Python |\n",
    "| R |\n",
    "| SQL |\n"
   ]
  },
  {
   "cell_type": "markdown",
   "id": "6615744a",
   "metadata": {},
   "source": [
    "### Below are a few examples of evaluating arithmetic expressions in Python\n",
    "\n"
   ]
  },
  {
   "cell_type": "markdown",
   "id": "eb7c9028",
   "metadata": {},
   "source": [
    "# This a simple arithmetic expression to mutiply then add integers"
   ]
  },
  {
   "cell_type": "code",
   "execution_count": 12,
   "id": "1c82344c",
   "metadata": {},
   "outputs": [
    {
     "data": {
      "text/plain": [
       "17"
      ]
     },
     "execution_count": 12,
     "metadata": {},
     "output_type": "execute_result"
    }
   ],
   "source": [
    "(3*4)+5"
   ]
  },
  {
   "cell_type": "markdown",
   "id": "415c0d29",
   "metadata": {},
   "source": [
    "# This will convert 200 minutes to hours by diving by 60"
   ]
  },
  {
   "cell_type": "code",
   "execution_count": 14,
   "id": "101435c3",
   "metadata": {},
   "outputs": [
    {
     "name": "stdout",
     "output_type": "stream",
     "text": [
      "3.3333333333333335\n"
     ]
    }
   ],
   "source": [
    "a = 200 # 200 Minutes \n",
    "b = 60 # 60 Minutes Makes 1 hour \n",
    "c = a / b # To change Minutes to hours \n",
    "print (c)"
   ]
  },
  {
   "cell_type": "markdown",
   "id": "b3b98493",
   "metadata": {},
   "source": [
    "# **Author**\n",
    "\n",
    "TANDU OSAJI TANDU"
   ]
  },
  {
   "cell_type": "code",
   "execution_count": null,
   "id": "79a05b25",
   "metadata": {},
   "outputs": [],
   "source": []
  }
 ],
 "metadata": {
  "kernelspec": {
   "display_name": "Python 3 (ipykernel)",
   "language": "python",
   "name": "python3"
  },
  "language_info": {
   "codemirror_mode": {
    "name": "ipython",
    "version": 3
   },
   "file_extension": ".py",
   "mimetype": "text/x-python",
   "name": "python",
   "nbconvert_exporter": "python",
   "pygments_lexer": "ipython3",
   "version": "3.11.4"
  }
 },
 "nbformat": 4,
 "nbformat_minor": 5
}
